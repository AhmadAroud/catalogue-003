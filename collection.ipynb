{
 "cells": [
  {
   "cell_type": "code",
   "execution_count": 2,
   "metadata": {},
   "outputs": [
    {
     "name": "stdout",
     "output_type": "stream",
     "text": [
      "{'instance_of': {'type': 'uri', 'value': 'http://www.wikidata.org/entity/Q17642974'}, 'image': {'type': 'uri', 'value': 'http://commons.wikimedia.org/wiki/Special:FilePath/Frans%20Hals%20-%20Claes%20Duyst%20van%20Voorhout.jpg'}, 'inception': {'datatype': 'http://www.w3.org/2001/XMLSchema#dateTime', 'type': 'literal', 'value': '1638-01-01T00:00:00Z'}, 'Titel': {'xml:lang': 'en', 'type': 'literal', 'value': 'Portrait of a Man, Possibly Nicolaes Pietersz Duyst van Voorhout (born about 1600, died 1650)'}}\n",
      "{'instance_of': {'type': 'uri', 'value': 'http://www.wikidata.org/entity/Q17813326'}, 'image': {'type': 'uri', 'value': 'http://commons.wikimedia.org/wiki/Special:FilePath/Portrait%20of%20a%20Bearded%20Man%20with%20a%20Ruff%20by%20Frans%20Hals.jpg'}, 'inception': {'datatype': 'http://www.w3.org/2001/XMLSchema#dateTime', 'type': 'literal', 'value': '1625-01-01T00:00:00Z'}, 'Titel': {'xml:lang': 'nl', 'type': 'literal', 'value': 'Portret van een onbekende man'}}\n",
      "{'instance_of': {'type': 'uri', 'value': 'http://www.wikidata.org/entity/Q17813915'}, 'image': {'type': 'uri', 'value': 'http://commons.wikimedia.org/wiki/Special:FilePath/Frans%20Hals%20-%20Petrus%20Scriverius.jpg'}, 'inception': {'datatype': 'http://www.w3.org/2001/XMLSchema#dateTime', 'type': 'literal', 'value': '1626-01-01T00:00:00Z'}, 'Titel': {'xml:lang': 'en', 'type': 'literal', 'value': 'Petrus Scriverius (1576–1660)'}}\n",
      "{'instance_of': {'type': 'uri', 'value': 'http://www.wikidata.org/entity/Q17815340'}, 'image': {'type': 'uri', 'value': 'http://commons.wikimedia.org/wiki/Special:FilePath/Frans%20Hals%20-%20Anna%20van%20der%20Aar.jpg'}, 'inception': {'datatype': 'http://www.w3.org/2001/XMLSchema#dateTime', 'type': 'literal', 'value': '1626-01-01T00:00:00Z'}, 'Titel': {'xml:lang': 'en', 'type': 'literal', 'value': 'Anna van der Aar (born 1576/77, died after 1626)'}}\n",
      "{'instance_of': {'type': 'uri', 'value': 'http://www.wikidata.org/entity/Q18011393'}, 'image': {'type': 'uri', 'value': 'http://commons.wikimedia.org/wiki/Special:FilePath/Frans%20Hals%20-%20portrait%20of%20a%20woman%2091.26.10.jpg'}, 'inception': {'datatype': 'http://www.w3.org/2001/XMLSchema#dateTime', 'type': 'literal', 'value': '1650-01-01T00:00:00Z'}, 'Titel': {'xml:lang': 'en', 'type': 'literal', 'value': 'Portrait of a Woman'}}\n",
      "{'instance_of': {'type': 'uri', 'value': 'http://www.wikidata.org/entity/Q18011394'}, 'image': {'type': 'uri', 'value': 'http://commons.wikimedia.org/wiki/Special:FilePath/Frans%20Hals%20-%20Portrait%20of%20a%20Man%20-%20WGA11161.jpg'}, 'inception': {'datatype': 'http://www.w3.org/2001/XMLSchema#dateTime', 'type': 'literal', 'value': '1650-01-01T00:00:00Z'}, 'Titel': {'xml:lang': 'en', 'type': 'literal', 'value': 'Portrait of a Man'}}\n",
      "{'instance_of': {'type': 'uri', 'value': 'http://www.wikidata.org/entity/Q18437007'}, 'image': {'type': 'uri', 'value': 'http://commons.wikimedia.org/wiki/Special:FilePath/La%20Chasse%20au%20loup%20et%20au%20renard%20-%20Rubens.jpg'}, 'inception': {'datatype': 'http://www.w3.org/2001/XMLSchema#dateTime', 'type': 'literal', 'value': '1616-01-01T00:00:00Z'}, 'Titel': {'xml:lang': 'en', 'type': 'literal', 'value': 'Wolf and Fox Hunt'}}\n",
      "{'instance_of': {'type': 'uri', 'value': 'http://www.wikidata.org/entity/Q18511742'}, 'image': {'type': 'uri', 'value': 'http://commons.wikimedia.org/wiki/Special:FilePath/Pieter%20de%20Hooch%20-%20The%20Visit%20-%20WGA11684.jpg'}, 'inception': {'datatype': 'http://www.w3.org/2001/XMLSchema#dateTime', 'type': 'literal', 'value': '1657-01-01T00:00:00Z'}, 'Titel': {'xml:lang': 'en', 'type': 'literal', 'value': 'The Visit'}}\n",
      "{'instance_of': {'type': 'uri', 'value': 'http://www.wikidata.org/entity/Q18589381'}, 'image': {'type': 'uri', 'value': 'http://commons.wikimedia.org/wiki/Special:FilePath/A%20Man%20holding%20Gloves%2C%20by%20Rembrandt%20van%20Rijn.jpg'}, 'inception': {'datatype': 'http://www.w3.org/2001/XMLSchema#dateTime', 'type': 'literal', 'value': '1648-01-01T00:00:00Z'}, 'Titel': {'xml:lang': 'en', 'type': 'literal', 'value': 'Portrait of a Man Holding Gloves'}}\n"
     ]
    }
   ],
   "source": [
    "# pip install sparqlwrapper\n",
    "# https://rdflib.github.io/sparqlwrapper/\n",
    "\n",
    "import sys\n",
    "from SPARQLWrapper import SPARQLWrapper, JSON\n",
    "from PIL import Image\n",
    "import requests\n",
    "\n",
    "endpoint_url = \"https://query.wikidata.org/sparql\"\n",
    "\n",
    "query = \"\"\"#Paintings by Rembrandt in the Louvre or the Rijkmuseum\n",
    "#defaultView:ImageGrid\n",
    "SELECT ?instance_of ?image ?inception ?Titel WHERE {\n",
    "  SERVICE wikibase:label { bd:serviceParam wikibase:language \"[AUTO_LANGUAGE],en\". }\n",
    "  ?instance_of wdt:P31 wd:Q3305213;\n",
    "    wdt:P195 wd:Q160236.\n",
    "  OPTIONAL { ?instance_of wdt:P18 ?image. }\n",
    "  OPTIONAL { ?instance_of wdt:P571 ?inception. }\n",
    "  BIND(YEAR(?inception) AS ?inceptionyear)\n",
    "  FILTER((1290  <= ?inceptionyear) && (?inceptionyear < 1750 ))\n",
    "  OPTIONAL { ?instance_of wdt:P1476 ?Titel. }\n",
    "}\n",
    "LIMIT 9\"\"\"\n",
    "\n",
    "\n",
    "def get_results(endpoint_url, query):\n",
    "    user_agent = \"WDQS-example Python/%s.%s\" % (sys.version_info[0], sys.version_info[1])\n",
    "    # TODO adjust user agent; see https://w.wiki/CX6\n",
    "    sparql = SPARQLWrapper(endpoint_url, agent=user_agent)\n",
    "    sparql.setQuery(query)\n",
    "    sparql.setReturnFormat(JSON)\n",
    "    return sparql.query().convert()\n",
    "\n",
    "\n",
    "results = get_results(endpoint_url, query)\n",
    "\n",
    "for result in results[\"results\"][\"bindings\"]:\n",
    "    print(result)\n",
    "\n"
   ]
  }
 ],
 "metadata": {
  "kernelspec": {
   "display_name": "Python 3",
   "language": "python",
   "name": "python3"
  },
  "language_info": {
   "codemirror_mode": {
    "name": "ipython",
    "version": 3
   },
   "file_extension": ".py",
   "mimetype": "text/x-python",
   "name": "python",
   "nbconvert_exporter": "python",
   "pygments_lexer": "ipython3",
   "version": "3.9.12"
  },
  "orig_nbformat": 4,
  "vscode": {
   "interpreter": {
    "hash": "a920c9d5d3e1c7f9c99cf4aa51a697c7c8101aa2a5b706c50ec3b4f2ff7ff5ae"
   }
  }
 },
 "nbformat": 4,
 "nbformat_minor": 2
}
