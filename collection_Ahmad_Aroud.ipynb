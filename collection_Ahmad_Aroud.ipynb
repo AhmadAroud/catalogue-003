{
 "cells": [
  {
   "cell_type": "code",
   "execution_count": 4,
   "metadata": {},
   "outputs": [
    {
     "name": "stdout",
     "output_type": "stream",
     "text": [
      "{'instance_of': {'type': 'uri', 'value': 'http://www.wikidata.org/entity/Q3395798'}, 'image': {'type': 'uri', 'value': 'http://commons.wikimedia.org/wiki/Special:FilePath/Cervara-triptiek%20%28wedersamenstelling%29.jpg'}, 'inception': {'datatype': 'http://www.w3.org/2001/XMLSchema#dateTime', 'type': 'literal', 'value': '1500-01-01T00:00:00Z'}}\n",
      "{'instance_of': {'type': 'uri', 'value': 'http://www.wikidata.org/entity/Q3399428'}, 'image': {'type': 'uri', 'value': 'http://commons.wikimedia.org/wiki/Special:FilePath/Weyden%2C%20Rogier%20van%20der%20-%20Francesco%20d%27Este.jpg'}, 'inception': {'datatype': 'http://www.w3.org/2001/XMLSchema#dateTime', 'type': 'literal', 'value': '1460-01-01T00:00:00Z'}, 'Titel': {'xml:lang': 'en', 'type': 'literal', 'value': \"Francesco d'Este (born about 1429, died after July 20, 1486)\"}, 'Urheberrechtsstatus': {'type': 'uri', 'value': 'http://www.wikidata.org/entity/Q19652'}, 'UrheberrechtsstatusLabel': {'xml:lang': 'en', 'type': 'literal', 'value': 'public domain'}}\n",
      "{'instance_of': {'type': 'uri', 'value': 'http://www.wikidata.org/entity/Q3538918'}, 'image': {'type': 'uri', 'value': 'http://commons.wikimedia.org/wiki/Special:FilePath/Saint%20Lawrence%20Enthroned%20with%20Saints%20and%20Donors%20MET%20DT340533.jpg'}, 'inception': {'datatype': 'http://www.w3.org/2001/XMLSchema#dateTime', 'type': 'literal', 'value': '1453-01-01T00:00:00Z'}, 'Titel': {'xml:lang': 'en', 'type': 'literal', 'value': 'Saint Lawrence Enthroned with Saints and Donors'}, 'Urheberrechtsstatus': {'type': 'uri', 'value': 'http://www.wikidata.org/entity/Q19652'}, 'UrheberrechtsstatusLabel': {'xml:lang': 'en', 'type': 'literal', 'value': 'public domain'}}\n",
      "{'instance_of': {'type': 'uri', 'value': 'http://www.wikidata.org/entity/Q3546958'}, 'image': {'type': 'uri', 'value': 'http://commons.wikimedia.org/wiki/Special:FilePath/HeadChrist.jpg'}, 'inception': {'datatype': 'http://www.w3.org/2001/XMLSchema#dateTime', 'type': 'literal', 'value': '1445-01-01T00:00:00Z'}, 'Titel': {'xml:lang': 'en', 'type': 'literal', 'value': 'Head of Christ'}, 'Urheberrechtsstatus': {'type': 'uri', 'value': 'http://www.wikidata.org/entity/Q19652'}, 'UrheberrechtsstatusLabel': {'xml:lang': 'en', 'type': 'literal', 'value': 'public domain'}}\n",
      "{'instance_of': {'type': 'uri', 'value': 'http://www.wikidata.org/entity/Q3605556'}, 'image': {'type': 'uri', 'value': 'http://commons.wikimedia.org/wiki/Special:FilePath/Andrea%20Mantegna%20The%20Adoration%20of%20the%20Shepherds.jpg'}, 'inception': {'datatype': 'http://www.w3.org/2001/XMLSchema#dateTime', 'type': 'literal', 'value': '1450-01-01T00:00:00Z'}, 'Titel': {'xml:lang': 'en', 'type': 'literal', 'value': 'The Adoration of the Shepherds'}, 'Urheberrechtsstatus': {'type': 'uri', 'value': 'http://www.wikidata.org/entity/Q19652'}, 'UrheberrechtsstatusLabel': {'xml:lang': 'en', 'type': 'literal', 'value': 'public domain'}}\n",
      "{'instance_of': {'type': 'uri', 'value': 'http://www.wikidata.org/entity/Q3620758'}, 'image': {'type': 'uri', 'value': 'http://commons.wikimedia.org/wiki/Special:FilePath/Carlo%20crivelli%2C%20montefiore%2C%20apostolo%20di%20new%20york.jpg'}, 'inception': {'datatype': 'http://www.w3.org/2001/XMLSchema#dateTime', 'type': 'literal', 'value': '1471-01-01T00:00:00Z'}, 'Titel': {'xml:lang': 'en', 'type': 'literal', 'value': 'An Apostle'}, 'Urheberrechtsstatus': {'type': 'uri', 'value': 'http://www.wikidata.org/entity/Q19652'}, 'UrheberrechtsstatusLabel': {'xml:lang': 'en', 'type': 'literal', 'value': 'public domain'}}\n",
      "{'instance_of': {'type': 'uri', 'value': 'http://www.wikidata.org/entity/Q3630737'}, 'image': {'type': 'uri', 'value': 'http://commons.wikimedia.org/wiki/Special:FilePath/Anthony%20van%20Dyck%20-%20Self%20portrait.jpg'}, 'inception': {'datatype': 'http://www.w3.org/2001/XMLSchema#dateTime', 'type': 'literal', 'value': '1620-01-01T00:00:00Z'}, 'Titel': {'xml:lang': 'en', 'type': 'literal', 'value': 'Self-Portrait'}, 'Urheberrechtsstatus': {'type': 'uri', 'value': 'http://www.wikidata.org/entity/Q19652'}, 'UrheberrechtsstatusLabel': {'xml:lang': 'en', 'type': 'literal', 'value': 'public domain'}}\n",
      "{'instance_of': {'type': 'uri', 'value': 'http://www.wikidata.org/entity/Q3649298'}, 'image': {'type': 'uri', 'value': 'http://commons.wikimedia.org/wiki/Special:FilePath/Piero%20di%20cosimo%2C%20scena%20di%20caccia%202.jpg'}, 'inception': {'datatype': 'http://www.w3.org/2001/XMLSchema#dateTime', 'type': 'literal', 'value': '1500-01-01T00:00:00Z'}, 'Titel': {'xml:lang': 'en', 'type': 'literal', 'value': 'A Hunting Scene'}, 'Urheberrechtsstatus': {'type': 'uri', 'value': 'http://www.wikidata.org/entity/Q19652'}, 'UrheberrechtsstatusLabel': {'xml:lang': 'en', 'type': 'literal', 'value': 'public domain'}}\n",
      "{'instance_of': {'type': 'uri', 'value': 'http://www.wikidata.org/entity/Q3659494'}, 'image': {'type': 'uri', 'value': 'http://commons.wikimedia.org/wiki/Special:FilePath/Charles%201%20Mijtens.jpg'}, 'inception': {'datatype': 'http://www.w3.org/2001/XMLSchema#dateTime', 'type': 'literal', 'value': '1629-01-01T00:00:00Z'}, 'Titel': {'xml:lang': 'en', 'type': 'literal', 'value': 'Charles I (1600–1649), King of England'}, 'Urheberrechtsstatus': {'type': 'uri', 'value': 'http://www.wikidata.org/entity/Q19652'}, 'UrheberrechtsstatusLabel': {'xml:lang': 'en', 'type': 'literal', 'value': 'public domain'}}\n"
     ]
    }
   ],
   "source": [
    "# pip install sparqlwrapper\n",
    "# https://rdflib.github.io/sparqlwrapper/\n",
    "\n",
    "import sys\n",
    "from SPARQLWrapper import SPARQLWrapper, JSON\n",
    "from PIL import Image\n",
    "import requests\n",
    "\n",
    "endpoint_url = \"https://query.wikidata.org/sparql\"\n",
    "\n",
    "query = \"\"\"#Paintings by Rembrandt in the Louvre or the Rijkmuseum\n",
    "#defaultView:ImageGrid\n",
    "SELECT ?instance_of ?image ?inception ?Titel ?Urheberrechtsstatus ?UrheberrechtsstatusLabel WHERE {\n",
    "  SERVICE wikibase:label { bd:serviceParam wikibase:language \"[AUTO_LANGUAGE],en\". }\n",
    "  ?instance_of wdt:P31 wd:Q3305213;\n",
    "    wdt:P195 wd:Q160236.\n",
    "  OPTIONAL { ?instance_of wdt:P18 ?image. }\n",
    "  OPTIONAL { ?instance_of wdt:P571 ?inception. }\n",
    "  BIND(YEAR(?inception) AS ?inceptionyear)\n",
    "  FILTER((1290  <= ?inceptionyear) && (?inceptionyear < 1750 ))\n",
    "  OPTIONAL { ?instance_of wdt:P1476 ?Titel. }\n",
    "  OPTIONAL { ?instance_of wdt:P6216 ?Urheberrechtsstatus. }\n",
    "  OPTIONAL { ?instance_of wdt:P577 ?UrheberrechtsstatusLabel. }\n",
    "}\n",
    "LIMIT 9\"\"\"\n",
    "\n",
    "\n",
    "def get_results(endpoint_url, query):\n",
    "    user_agent = \"WDQS-example Python/%s.%s\" % (sys.version_info[0], sys.version_info[1])\n",
    "    # TODO adjust user agent; see https://w.wiki/CX6\n",
    "    sparql = SPARQLWrapper(endpoint_url, agent=user_agent)\n",
    "    sparql.setQuery(query)\n",
    "    sparql.setReturnFormat(JSON)\n",
    "    return sparql.query().convert()\n",
    "\n",
    "\n",
    "results = get_results(endpoint_url, query)\n",
    "\n",
    "for result in results[\"results\"][\"bindings\"]:\n",
    "    print(result)\n",
    "\n"
   ]
  }
 ],
 "metadata": {
  "kernelspec": {
   "display_name": "base",
   "language": "python",
   "name": "python3"
  },
  "language_info": {
   "codemirror_mode": {
    "name": "ipython",
    "version": 3
   },
   "file_extension": ".py",
   "mimetype": "text/x-python",
   "name": "python",
   "nbconvert_exporter": "python",
   "pygments_lexer": "ipython3",
   "version": "3.9.12"
  },
  "orig_nbformat": 4
 },
 "nbformat": 4,
 "nbformat_minor": 2
}
